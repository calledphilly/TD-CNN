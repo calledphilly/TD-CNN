{
 "cells": [
  {
   "cell_type": "markdown",
   "metadata": {},
   "source": [
    "#Quickstart"
   ]
  },
  {
   "cell_type": "markdown",
   "metadata": {},
   "source": [
    "Working with data"
   ]
  },
  {
   "cell_type": "code",
   "execution_count": 30,
   "metadata": {},
   "outputs": [],
   "source": [
    "import torch\n",
    "import torch.nn as nn\n",
    "import torch.nn.functional as F\n",
    "import numpy as np\n",
    "from torchvision import datasets\n",
    "from torch.utils.data import Dataset, DataLoader\n",
    "import torchvision.transforms as T\n",
    "import numpy as np\n",
    "from torch.utils.tensorboard import SummaryWriter\n",
    "writer = SummaryWriter(log_dir=\"run/training\")"
   ]
  },
  {
   "cell_type": "code",
   "execution_count": 31,
   "metadata": {},
   "outputs": [],
   "source": [
    "# Download training data from open datasets.\n",
    "training_data = datasets.MNIST(\n",
    "    root=\"data\",\n",
    "    train=True,\n",
    "    download=True,\n",
    "    transform=T.ToTensor(),\n",
    ")\n",
    "\n",
    "# Download test data from open datasets.\n",
    "test_data = datasets.MNIST(\n",
    "    root=\"data\",\n",
    "    train=False,\n",
    "    download=True,\n",
    "    transform=T.ToTensor(),\n",
    ")"
   ]
  },
  {
   "cell_type": "code",
   "execution_count": 32,
   "metadata": {},
   "outputs": [
    {
     "name": "stdout",
     "output_type": "stream",
     "text": [
      "Shape of X [N, C, H, W]: torch.Size([64, 1, 28, 28])\n",
      "Shape of y: torch.Size([64]) torch.int64\n"
     ]
    }
   ],
   "source": [
    "batch_size = 64\n",
    "\n",
    "# Create data loaders.\n",
    "train_dataloader = DataLoader(training_data, batch_size=batch_size)\n",
    "test_dataloader = DataLoader(test_data, batch_size=batch_size)\n",
    "\n",
    "for X, y in test_dataloader:\n",
    "    print(f\"Shape of X [N, C, H, W]: {X.shape}\")\n",
    "    print(f\"Shape of y: {y.shape} {y.dtype}\")\n",
    "    break"
   ]
  },
  {
   "cell_type": "markdown",
   "metadata": {},
   "source": [
    "Creating Models"
   ]
  },
  {
   "cell_type": "code",
   "execution_count": 33,
   "metadata": {},
   "outputs": [
    {
     "name": "stdout",
     "output_type": "stream",
     "text": [
      "Using mps device\n"
     ]
    }
   ],
   "source": [
    "device = torch.accelerator.current_accelerator().type if torch.accelerator.is_available() else \"cpu\"\n",
    "print(f\"Using {device} device\")\n",
    "\n",
    "# Define model\n",
    "# class MultilayerPerceptron(nn.Module):\n",
    "#     def __init__(self):\n",
    "#         super().__init__()\n",
    "#         self.flatten = nn.Flatten()\n",
    "#         self.linear_relu_stack = nn.Sequential(\n",
    "#             nn.Linear(28*28, 128),\n",
    "#             nn.ReLU(),\n",
    "#             nn.Linear(128, 128),\n",
    "#             nn.ReLU(),\n",
    "#             nn.Linear(128, 10)\n",
    "#         )\n",
    "\n",
    "    # def forward(self, x):\n",
    "    #     x = self.flatten(x)\n",
    "    #     logits = self.linear_relu_stack(x)\n",
    "    #     return logits\n",
    "\n",
    "class ConvolutionalNeuralNetwork(nn.Module):\n",
    "    def __init__(self):\n",
    "        super().__init__()\n",
    "        self.conv1 = nn.Conv2d(1,32, kernel_size=3)\n",
    "        self.pool = nn.MaxPool2d(2,2)\n",
    "        self.conv2 = nn.Conv2d(32,64, kernel_size=3)\n",
    "        self.fc1 = nn.Linear(64 * 5 * 5, 128)\n",
    "        self.fc2 = nn.Linear(128, 128)\n",
    "        self.fc3 = nn.Linear(128, 10)\n",
    "    \n",
    "    def forward(self, x):\n",
    "        x = self.pool(F.relu(self.conv1(x)))\n",
    "        x = self.pool(F.relu(self.conv2(x)))\n",
    "        x = torch.flatten(x, 1) # flatten all dimensions except batch\n",
    "        x = F.relu(self.fc1(x))\n",
    "        x = F.dropout(x, 0.1, training=self.training)\n",
    "        x = F.relu(self.fc2(x))\n",
    "        x = F.dropout(x, 0.1, training=self.training)\n",
    "        x = self.fc3(x)\n",
    "        return x\n",
    "\n",
    "# model = MultilayerPerceptron().to(device)\n",
    "cnn = ConvolutionalNeuralNetwork().to(device)\n",
    "# print(model)"
   ]
  },
  {
   "cell_type": "markdown",
   "metadata": {},
   "source": []
  },
  {
   "cell_type": "markdown",
   "metadata": {},
   "source": [
    "Optimizing the Model Parameters"
   ]
  },
  {
   "cell_type": "code",
   "execution_count": 34,
   "metadata": {},
   "outputs": [],
   "source": [
    "loss_fn = nn.CrossEntropyLoss()\n",
    "# optimizer = torch.optim.SGD(model.parameters(), lr=1e-3)\n",
    "optimizer2 = torch.optim.SGD(cnn.parameters(), lr=4e-2, momentum=0.9)"
   ]
  },
  {
   "cell_type": "code",
   "execution_count": 35,
   "metadata": {},
   "outputs": [],
   "source": [
    "def train(dataloader, model, loss_fn, optimizer, epochs):\n",
    "    size = len(dataloader.dataset)\n",
    "    model.train()\n",
    "    for batch, (X, y) in enumerate(dataloader):\n",
    "        X, y = X.to(device), y.to(device)\n",
    "\n",
    "        # Compute prediction error\n",
    "        pred = model(X)\n",
    "        loss = loss_fn(pred, y)\n",
    "\n",
    "        # Backpropagation\n",
    "        loss.backward()\n",
    "        optimizer.step()\n",
    "        optimizer.zero_grad()\n",
    "        \n",
    "        step = epochs * len(dataloader) + batch\n",
    "        writer.add_scalar(\"Loss/train\", loss.item(), step)\n",
    "\n",
    "        if batch % 100 == 0:\n",
    "            loss, current = loss.item(), (batch + 1) * len(X)\n",
    "            print(f\"loss: {loss:>7f}  [{current:>5d}/{size:>5d}]\")\n",
    "\n",
    "def train2(dataloader, model, loss_fn, optimizer, epoch):\n",
    "    size = len(dataloader.dataset)\n",
    "    model.train()\n",
    "    for batch, (X, y) in enumerate(dataloader):\n",
    "        X, y = X.to(device), y.to(device)\n",
    "\n",
    "        pred = model(X)\n",
    "        loss = loss_fn(pred, y)\n",
    "\n",
    "        loss.backward()\n",
    "        optimizer.step()\n",
    "        optimizer.zero_grad()\n",
    "\n",
    "        step = epoch * len(dataloader) + batch\n",
    "        writer.add_scalar(\"Loss/train\", loss.item(), step)\n",
    "\n",
    "        if batch % 100 == 0:\n",
    "            loss_value, current = loss.item(), (batch + 1) * len(X)\n",
    "            print(f\"loss: {loss_value:>7f}  [{current:>5d}/{size:>5d}]\")"
   ]
  },
  {
   "cell_type": "code",
   "execution_count": 36,
   "metadata": {},
   "outputs": [],
   "source": [
    "accuracies = []"
   ]
  },
  {
   "cell_type": "code",
   "execution_count": 37,
   "metadata": {},
   "outputs": [],
   "source": [
    "def test(dataloader, model, loss_fn, epoch):\n",
    "    size = len(dataloader.dataset)\n",
    "    num_batches = len(dataloader)\n",
    "    model.eval()\n",
    "    test_loss, correct = 0, 0\n",
    "    with torch.no_grad():\n",
    "        for X, y in dataloader:\n",
    "            X, y = X.to(device), y.to(device)\n",
    "            pred = model(X)\n",
    "            test_loss += loss_fn(pred, y).item()\n",
    "            correct += (pred.argmax(1) == y).type(torch.float).sum().item()\n",
    "    test_loss /= num_batches\n",
    "    accuracy = correct / size\n",
    "    \n",
    "    # Enregistrement dans TensorBoard\n",
    "    writer.add_scalar(\"Accuracy/test\", accuracy, epoch)\n",
    "    writer.add_scalar(\"Loss/test\", test_loss, epoch)\n",
    "    \n",
    "    print(f\"Test Error: \\n Accuracy: {(100*correct):>0.1f}%, Avg loss: {test_loss:>8f} \\n\")\n",
    "    \n",
    "    # Enregistrement dans la liste\n",
    "    if accuracies is not None:\n",
    "        accuracies.append(accuracy)\n"
   ]
  },
  {
   "cell_type": "code",
   "execution_count": 38,
   "metadata": {},
   "outputs": [
    {
     "name": "stdout",
     "output_type": "stream",
     "text": [
      "Epoch 1\n",
      "-------------------------------\n",
      "loss: 2.309993  [   64/60000]\n",
      "loss: 0.450093  [ 6464/60000]\n",
      "loss: 0.139505  [12864/60000]\n",
      "loss: 0.221916  [19264/60000]\n",
      "loss: 0.121051  [25664/60000]\n",
      "loss: 0.080519  [32064/60000]\n",
      "loss: 0.096261  [38464/60000]\n",
      "loss: 0.182010  [44864/60000]\n",
      "loss: 0.265676  [51264/60000]\n",
      "loss: 0.052902  [57664/60000]\n",
      "Test Error: \n",
      " Accuracy: 980400.0%, Avg loss: 0.064089 \n",
      "\n",
      "Epoch 2\n",
      "-------------------------------\n",
      "loss: 0.017309  [   64/60000]\n",
      "loss: 0.108011  [ 6464/60000]\n",
      "loss: 0.032945  [12864/60000]\n",
      "loss: 0.231110  [19264/60000]\n",
      "loss: 0.007682  [25664/60000]\n",
      "loss: 0.168031  [32064/60000]\n",
      "loss: 0.066687  [38464/60000]\n",
      "loss: 0.093487  [44864/60000]\n",
      "loss: 0.156422  [51264/60000]\n",
      "loss: 0.040671  [57664/60000]\n",
      "Test Error: \n",
      " Accuracy: 986800.0%, Avg loss: 0.042098 \n",
      "\n",
      "Epoch 3\n",
      "-------------------------------\n",
      "loss: 0.002990  [   64/60000]\n",
      "loss: 0.126486  [ 6464/60000]\n",
      "loss: 0.051493  [12864/60000]\n",
      "loss: 0.194897  [19264/60000]\n",
      "loss: 0.041892  [25664/60000]\n",
      "loss: 0.075948  [32064/60000]\n",
      "loss: 0.039888  [38464/60000]\n",
      "loss: 0.025274  [44864/60000]\n",
      "loss: 0.150305  [51264/60000]\n",
      "loss: 0.079275  [57664/60000]\n",
      "Test Error: \n",
      " Accuracy: 987900.0%, Avg loss: 0.039729 \n",
      "\n",
      "Epoch 4\n",
      "-------------------------------\n",
      "loss: 0.009594  [   64/60000]\n",
      "loss: 0.047157  [ 6464/60000]\n",
      "loss: 0.013459  [12864/60000]\n",
      "loss: 0.031190  [19264/60000]\n",
      "loss: 0.002593  [25664/60000]\n",
      "loss: 0.021297  [32064/60000]\n",
      "loss: 0.056750  [38464/60000]\n",
      "loss: 0.039236  [44864/60000]\n",
      "loss: 0.136113  [51264/60000]\n",
      "loss: 0.026685  [57664/60000]\n",
      "Test Error: \n",
      " Accuracy: 987000.0%, Avg loss: 0.042809 \n",
      "\n",
      "Epoch 5\n",
      "-------------------------------\n",
      "loss: 0.008447  [   64/60000]\n",
      "loss: 0.090569  [ 6464/60000]\n",
      "loss: 0.017214  [12864/60000]\n",
      "loss: 0.076174  [19264/60000]\n",
      "loss: 0.047956  [25664/60000]\n",
      "loss: 0.006669  [32064/60000]\n",
      "loss: 0.081086  [38464/60000]\n",
      "loss: 0.009095  [44864/60000]\n",
      "loss: 0.022793  [51264/60000]\n",
      "loss: 0.007423  [57664/60000]\n",
      "Test Error: \n",
      " Accuracy: 989400.0%, Avg loss: 0.036071 \n",
      "\n",
      "Done!\n"
     ]
    }
   ],
   "source": [
    "epochs = 5\n",
    "for epoch in range(epochs):\n",
    "    print(f\"Epoch {epoch+1}\\n-------------------------------\")\n",
    "    train2(train_dataloader, cnn, loss_fn, optimizer2, epoch)\n",
    "    test(test_dataloader, cnn, loss_fn, epoch)\n",
    "    writer.close()\n",
    "print(\"Done!\")\n"
   ]
  },
  {
   "cell_type": "markdown",
   "metadata": {},
   "source": [
    "Saving Models"
   ]
  },
  {
   "cell_type": "code",
   "execution_count": 45,
   "metadata": {},
   "outputs": [
    {
     "name": "stdout",
     "output_type": "stream",
     "text": [
      "Saved PyTorch Model State to model.pth\n"
     ]
    }
   ],
   "source": [
    "# torch.save(model.state_dict(), \"model.pth\")\n",
    "torch.save(cnn.state_dict(), \"cnn.pth\")\n",
    "print(\"Saved PyTorch Model State to model.pth\")"
   ]
  },
  {
   "cell_type": "markdown",
   "metadata": {},
   "source": [
    "Loading Models"
   ]
  },
  {
   "cell_type": "code",
   "execution_count": 46,
   "metadata": {},
   "outputs": [
    {
     "data": {
      "text/plain": [
       "<All keys matched successfully>"
      ]
     },
     "execution_count": 46,
     "metadata": {},
     "output_type": "execute_result"
    }
   ],
   "source": [
    "cnn2 = ConvolutionalNeuralNetwork().to(device)\n",
    "cnn2.load_state_dict(torch.load(\"cnn.pth\", weights_only=True))"
   ]
  },
  {
   "cell_type": "code",
   "execution_count": 41,
   "metadata": {},
   "outputs": [],
   "source": [
    "# classes = [\n",
    "#     \"T-shirt/top\",\n",
    "#     \"Trouser\",\n",
    "#     \"Pullover\",\n",
    "#     \"Dress\",\n",
    "#     \"Coat\",\n",
    "#     \"Sandal\",\n",
    "#     \"Shirt\",\n",
    "#     \"Sneaker\",\n",
    "#     \"Bag\",\n",
    "#     \"Ankle boot\",\n",
    "# ]\n",
    "\n",
    "# model.eval()\n",
    "# x, y = test_data[0][0], test_data[0][1]\n",
    "# with torch.no_grad():\n",
    "#     x = x.to(device)\n",
    "#     pred = model(x)\n",
    "#     predicted, actual = classes[pred[0].argmax(0)], classes[y]\n",
    "#     print(f'Predicted: \"{predicted}\", Actual: \"{actual}\"')"
   ]
  },
  {
   "cell_type": "markdown",
   "metadata": {},
   "source": [
    "TensorBoard"
   ]
  },
  {
   "cell_type": "code",
   "execution_count": 47,
   "metadata": {},
   "outputs": [
    {
     "name": "stdout",
     "output_type": "stream",
     "text": [
      "Moyenne des accuracies test sur 5 époques : 0.9863\n",
      "Médiane des accuracies test : 0.9870\n",
      "Done!\n"
     ]
    }
   ],
   "source": [
    "import statistics\n",
    "mean_acc = statistics.mean(accuracies)\n",
    "median_acc = statistics.median(accuracies)\n",
    "\n",
    "print(f\"Moyenne des accuracies test sur {epochs} époques : {mean_acc:.4f}\")\n",
    "print(f\"Médiane des accuracies test : {median_acc:.4f}\")\n",
    "\n",
    "writer.add_scalar(\"Stats/mean_accuracy\", mean_acc, epochs)\n",
    "writer.add_scalar(\"Stats/median_accuracy\", median_acc, epochs)\n",
    "writer.close()\n",
    "print(\"Done!\")"
   ]
  },
  {
   "cell_type": "code",
   "execution_count": 48,
   "metadata": {},
   "outputs": [
    {
     "name": "stdout",
     "output_type": "stream",
     "text": [
      "ConvolutionalNeuralNetwork(\n",
      "  (conv1): Conv2d(1, 32, kernel_size=(3, 3), stride=(1, 1))\n",
      "  (pool): MaxPool2d(kernel_size=2, stride=2, padding=0, dilation=1, ceil_mode=False)\n",
      "  (conv2): Conv2d(32, 64, kernel_size=(3, 3), stride=(1, 1))\n",
      "  (fc1): Linear(in_features=1600, out_features=128, bias=True)\n",
      "  (fc2): Linear(in_features=128, out_features=128, bias=True)\n",
      "  (fc3): Linear(in_features=128, out_features=10, bias=True)\n",
      ")\n",
      "ConvolutionalNeuralNetwork(\n",
      "  (conv1): Conv2d(1, 32, kernel_size=(3, 3), stride=(1, 1))\n",
      "  (pool): MaxPool2d(kernel_size=2, stride=2, padding=0, dilation=1, ceil_mode=False)\n",
      "  (conv2): Conv2d(32, 64, kernel_size=(3, 3), stride=(1, 1))\n",
      "  (fc1): Linear(in_features=1600, out_features=128, bias=True)\n",
      "  (fc2): Linear(in_features=128, out_features=128, bias=True)\n",
      "  (fc3): Linear(in_features=128, out_features=10, bias=True)\n",
      ")\n",
      "Modèle exporté en mnist_cnn.onnx\n"
     ]
    }
   ],
   "source": [
    "print(cnn)\n",
    "cnn.eval()\n",
    "print(cnn)\n",
    "dummy_input = torch.randn(1, 1, 28, 28, device=device)\n",
    "torch.onnx.export(\n",
    "    cnn, \n",
    "    dummy_input, \n",
    "    \"backend/mnist_cnn.onnx\",\n",
    "    input_names=[\"input\"], \n",
    "    output_names=[\"output\"], \n",
    "    dynamic_axes={\"input\": {0: \"batch_size\"}, \"output\": {0: \"batch_size\"}},\n",
    "    opset_version=11\n",
    ")\n",
    "print(\"Modèle exporté en mnist_cnn.onnx\")"
   ]
  },
  {
   "cell_type": "code",
   "execution_count": 2,
   "metadata": {},
   "outputs": [
    {
     "name": "stdout",
     "output_type": "stream",
     "text": [
      "Prediction: 2\n"
     ]
    }
   ],
   "source": [
    "from PIL import Image\n",
    "import numpy as np\n",
    "import onnxruntime as ort\n",
    "\n",
    "img = Image.open(\"debug_digit.png\").convert(\"L\")\n",
    "img = np.array(img).astype(np.float32) / 255.0\n",
    "img = (img - 0.1307) / 0.3081\n",
    "input_tensor = img.reshape(1, 1, 28, 28)\n",
    "\n",
    "session = ort.InferenceSession(\"backend/mnist_cnn.onnx\")\n",
    "outputs = session.run(None, {\"input\": input_tensor})\n",
    "print(\"Prediction:\", np.argmax(outputs[0]))\n"
   ]
  }
 ],
 "metadata": {
  "kernelspec": {
   "display_name": ".env",
   "language": "python",
   "name": "python3"
  },
  "language_info": {
   "codemirror_mode": {
    "name": "ipython",
    "version": 3
   },
   "file_extension": ".py",
   "mimetype": "text/x-python",
   "name": "python",
   "nbconvert_exporter": "python",
   "pygments_lexer": "ipython3",
   "version": "3.11.13"
  }
 },
 "nbformat": 4,
 "nbformat_minor": 2
}
