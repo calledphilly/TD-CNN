{
 "cells": [
  {
   "cell_type": "markdown",
   "metadata": {},
   "source": [
    "#Quickstart"
   ]
  },
  {
   "cell_type": "markdown",
   "metadata": {},
   "source": [
    "Working with data"
   ]
  },
  {
   "cell_type": "code",
   "execution_count": 7,
   "metadata": {},
   "outputs": [],
   "source": [
    "import torch\n",
    "import torch.nn as nn\n",
    "import torch.nn.functional as F\n",
    "import numpy as np\n",
    "from torchvision import datasets\n",
    "from torch.utils.data import Dataset, DataLoader\n",
    "import torchvision.transforms as T\n",
    "import numpy as np\n",
    "from torch.utils.tensorboard import SummaryWriter\n",
    "writer = SummaryWriter(log_dir=\"run/training\")"
   ]
  },
  {
   "cell_type": "code",
   "execution_count": 8,
   "metadata": {},
   "outputs": [],
   "source": [
    "# Download training data from open datasets.\n",
    "training_data = datasets.MNIST(\n",
    "    root=\"data\",\n",
    "    train=True,\n",
    "    download=True,\n",
    "    transform=T.ToTensor(),\n",
    ")\n",
    "\n",
    "# Download test data from open datasets.\n",
    "test_data = datasets.MNIST(\n",
    "    root=\"data\",\n",
    "    train=False,\n",
    "    download=True,\n",
    "    transform=T.ToTensor(),\n",
    ")"
   ]
  },
  {
   "cell_type": "code",
   "execution_count": 9,
   "metadata": {},
   "outputs": [
    {
     "name": "stdout",
     "output_type": "stream",
     "text": [
      "Shape of X [N, C, H, W]: torch.Size([64, 1, 28, 28])\n",
      "Shape of y: torch.Size([64]) torch.int64\n"
     ]
    }
   ],
   "source": [
    "batch_size = 64\n",
    "\n",
    "# Create data loaders.\n",
    "train_dataloader = DataLoader(training_data, batch_size=batch_size)\n",
    "test_dataloader = DataLoader(test_data, batch_size=batch_size)\n",
    "\n",
    "for X, y in test_dataloader:\n",
    "    print(f\"Shape of X [N, C, H, W]: {X.shape}\")\n",
    "    print(f\"Shape of y: {y.shape} {y.dtype}\")\n",
    "    break"
   ]
  },
  {
   "cell_type": "markdown",
   "metadata": {},
   "source": [
    "Creating Models"
   ]
  },
  {
   "cell_type": "code",
   "execution_count": 10,
   "metadata": {},
   "outputs": [
    {
     "name": "stdout",
     "output_type": "stream",
     "text": [
      "Using mps device\n"
     ]
    }
   ],
   "source": [
    "device = torch.accelerator.current_accelerator().type if torch.accelerator.is_available() else \"cpu\"\n",
    "print(f\"Using {device} device\")\n",
    "\n",
    "# Define model\n",
    "# class MultilayerPerceptron(nn.Module):\n",
    "#     def __init__(self):\n",
    "#         super().__init__()\n",
    "#         self.flatten = nn.Flatten()\n",
    "#         self.linear_relu_stack = nn.Sequential(\n",
    "#             nn.Linear(28*28, 128),\n",
    "#             nn.ReLU(),\n",
    "#             nn.Linear(128, 128),\n",
    "#             nn.ReLU(),\n",
    "#             nn.Linear(128, 10)\n",
    "#         )\n",
    "\n",
    "    # def forward(self, x):\n",
    "    #     x = self.flatten(x)\n",
    "    #     logits = self.linear_relu_stack(x)\n",
    "    #     return logits\n",
    "\n",
    "class ConvolutionalNeuralNetwork(nn.Module):\n",
    "    def __init__(self):\n",
    "        super().__init__()\n",
    "        self.conv1 = nn.Conv2d(1,32, kernel_size=3)\n",
    "        self.pool = nn.MaxPool2d(2,2)\n",
    "        self.conv2 = nn.Conv2d(32,64, kernel_size=3)\n",
    "        self.fc1 = nn.Linear(64 * 5 * 5, 128)\n",
    "        self.fc2 = nn.Linear(128, 128)\n",
    "        self.fc3 = nn.Linear(128, 10)\n",
    "    \n",
    "    def forward(self, x):\n",
    "        x = self.pool(F.relu(self.conv1(x)))\n",
    "        x = self.pool(F.relu(self.conv2(x)))\n",
    "        x = torch.flatten(x, 1) # flatten all dimensions except batch\n",
    "        x = F.relu(self.fc1(x))\n",
    "        x = F.dropout(x, 0.1, training=self.training)\n",
    "        x = F.relu(self.fc2(x))\n",
    "        x = F.dropout(x, 0.1, training=self.training)\n",
    "        x = self.fc3(x)\n",
    "        return x\n",
    "\n",
    "# model = MultilayerPerceptron().to(device)\n",
    "cnn = ConvolutionalNeuralNetwork().to(device)\n",
    "# print(model)"
   ]
  },
  {
   "cell_type": "markdown",
   "metadata": {},
   "source": []
  },
  {
   "cell_type": "markdown",
   "metadata": {},
   "source": [
    "Optimizing the Model Parameters"
   ]
  },
  {
   "cell_type": "code",
   "execution_count": 11,
   "metadata": {},
   "outputs": [],
   "source": [
    "loss_fn = nn.CrossEntropyLoss()\n",
    "# optimizer = torch.optim.SGD(model.parameters(), lr=1e-3)\n",
    "optimizer2 = torch.optim.SGD(cnn.parameters(), lr=4e-2, momentum=0.9)"
   ]
  },
  {
   "cell_type": "code",
   "execution_count": 12,
   "metadata": {},
   "outputs": [],
   "source": [
    "def train(dataloader, model, loss_fn, optimizer, epochs):\n",
    "    size = len(dataloader.dataset)\n",
    "    model.train()\n",
    "    for batch, (X, y) in enumerate(dataloader):\n",
    "        X, y = X.to(device), y.to(device)\n",
    "\n",
    "        # Compute prediction error\n",
    "        pred = model(X)\n",
    "        loss = loss_fn(pred, y)\n",
    "\n",
    "        # Backpropagation\n",
    "        loss.backward()\n",
    "        optimizer.step()\n",
    "        optimizer.zero_grad()\n",
    "        \n",
    "        step = epochs * len(dataloader) + batch\n",
    "        writer.add_scalar(\"Loss/train\", loss.item(), step)\n",
    "\n",
    "        if batch % 100 == 0:\n",
    "            loss, current = loss.item(), (batch + 1) * len(X)\n",
    "            print(f\"loss: {loss:>7f}  [{current:>5d}/{size:>5d}]\")\n",
    "\n",
    "def train2(dataloader, model, loss_fn, optimizer, epoch):\n",
    "    size = len(dataloader.dataset)\n",
    "    model.train()\n",
    "    for batch, (X, y) in enumerate(dataloader):\n",
    "        X, y = X.to(device), y.to(device)\n",
    "\n",
    "        pred = model(X)\n",
    "        loss = loss_fn(pred, y)\n",
    "\n",
    "        loss.backward()\n",
    "        optimizer.step()\n",
    "        optimizer.zero_grad()\n",
    "\n",
    "        step = epoch * len(dataloader) + batch\n",
    "        writer.add_scalar(\"Loss/train\", loss.item(), step)\n",
    "\n",
    "        if batch % 100 == 0:\n",
    "            loss_value, current = loss.item(), (batch + 1) * len(X)\n",
    "            print(f\"loss: {loss_value:>7f}  [{current:>5d}/{size:>5d}]\")"
   ]
  },
  {
   "cell_type": "code",
   "execution_count": 13,
   "metadata": {},
   "outputs": [],
   "source": [
    "accuracies = []"
   ]
  },
  {
   "cell_type": "code",
   "execution_count": 14,
   "metadata": {},
   "outputs": [],
   "source": [
    "def test(dataloader, model, loss_fn, epoch):\n",
    "    size = len(dataloader.dataset)\n",
    "    num_batches = len(dataloader)\n",
    "    model.eval()\n",
    "    test_loss, correct = 0, 0\n",
    "    with torch.no_grad():\n",
    "        for X, y in dataloader:\n",
    "            X, y = X.to(device), y.to(device)\n",
    "            pred = model(X)\n",
    "            test_loss += loss_fn(pred, y).item()\n",
    "            correct += (pred.argmax(1) == y).type(torch.float).sum().item()\n",
    "    test_loss /= num_batches\n",
    "    accuracy = correct / size\n",
    "    \n",
    "    # Enregistrement dans TensorBoard\n",
    "    writer.add_scalar(\"Accuracy/test\", accuracy, epoch)\n",
    "    writer.add_scalar(\"Loss/test\", test_loss, epoch)\n",
    "    \n",
    "    print(f\"Test Error: \\n Accuracy: {(100*correct):>0.1f}%, Avg loss: {test_loss:>8f} \\n\")\n",
    "    \n",
    "    # Enregistrement dans la liste\n",
    "    if accuracies is not None:\n",
    "        accuracies.append(accuracy)\n"
   ]
  },
  {
   "cell_type": "code",
   "execution_count": 15,
   "metadata": {},
   "outputs": [
    {
     "name": "stdout",
     "output_type": "stream",
     "text": [
      "Epoch 1\n",
      "-------------------------------\n",
      "loss: 2.313233  [   64/60000]\n",
      "loss: 0.214970  [ 6464/60000]\n",
      "loss: 0.171183  [12864/60000]\n",
      "loss: 0.234930  [19264/60000]\n",
      "loss: 0.029141  [25664/60000]\n",
      "loss: 0.109126  [32064/60000]\n",
      "loss: 0.041320  [38464/60000]\n",
      "loss: 0.098778  [44864/60000]\n",
      "loss: 0.299609  [51264/60000]\n",
      "loss: 0.108417  [57664/60000]\n",
      "Test Error: \n",
      " Accuracy: 980600.0%, Avg loss: 0.063748 \n",
      "\n",
      "Epoch 2\n",
      "-------------------------------\n",
      "loss: 0.026640  [   64/60000]\n",
      "loss: 0.170810  [ 6464/60000]\n",
      "loss: 0.056210  [12864/60000]\n",
      "loss: 0.132803  [19264/60000]\n",
      "loss: 0.017373  [25664/60000]\n",
      "loss: 0.055614  [32064/60000]\n",
      "loss: 0.061350  [38464/60000]\n",
      "loss: 0.025562  [44864/60000]\n",
      "loss: 0.208103  [51264/60000]\n",
      "loss: 0.080911  [57664/60000]\n",
      "Test Error: \n",
      " Accuracy: 985800.0%, Avg loss: 0.042210 \n",
      "\n",
      "Epoch 3\n",
      "-------------------------------\n",
      "loss: 0.005996  [   64/60000]\n",
      "loss: 0.088572  [ 6464/60000]\n",
      "loss: 0.012793  [12864/60000]\n",
      "loss: 0.086840  [19264/60000]\n",
      "loss: 0.010466  [25664/60000]\n",
      "loss: 0.068130  [32064/60000]\n",
      "loss: 0.035207  [38464/60000]\n",
      "loss: 0.042524  [44864/60000]\n",
      "loss: 0.083938  [51264/60000]\n",
      "loss: 0.027875  [57664/60000]\n",
      "Test Error: \n",
      " Accuracy: 988100.0%, Avg loss: 0.038485 \n",
      "\n",
      "Epoch 4\n",
      "-------------------------------\n",
      "loss: 0.012778  [   64/60000]\n",
      "loss: 0.075916  [ 6464/60000]\n",
      "loss: 0.027538  [12864/60000]\n",
      "loss: 0.008485  [19264/60000]\n",
      "loss: 0.011933  [25664/60000]\n",
      "loss: 0.075536  [32064/60000]\n",
      "loss: 0.045916  [38464/60000]\n",
      "loss: 0.029195  [44864/60000]\n",
      "loss: 0.229387  [51264/60000]\n",
      "loss: 0.059171  [57664/60000]\n",
      "Test Error: \n",
      " Accuracy: 989400.0%, Avg loss: 0.033958 \n",
      "\n",
      "Epoch 5\n",
      "-------------------------------\n",
      "loss: 0.005170  [   64/60000]\n",
      "loss: 0.071733  [ 6464/60000]\n",
      "loss: 0.048974  [12864/60000]\n",
      "loss: 0.110623  [19264/60000]\n",
      "loss: 0.062920  [25664/60000]\n",
      "loss: 0.006739  [32064/60000]\n",
      "loss: 0.040700  [38464/60000]\n",
      "loss: 0.019357  [44864/60000]\n",
      "loss: 0.055728  [51264/60000]\n",
      "loss: 0.014997  [57664/60000]\n",
      "Test Error: \n",
      " Accuracy: 987700.0%, Avg loss: 0.041712 \n",
      "\n",
      "Done!\n"
     ]
    }
   ],
   "source": [
    "epochs = 5\n",
    "for epoch in range(epochs):\n",
    "    print(f\"Epoch {epoch+1}\\n-------------------------------\")\n",
    "    train2(train_dataloader, cnn, loss_fn, optimizer2, epoch)\n",
    "    test(test_dataloader, cnn, loss_fn, epoch)\n",
    "    writer.close()\n",
    "print(\"Done!\")\n"
   ]
  },
  {
   "cell_type": "markdown",
   "metadata": {},
   "source": [
    "Saving Models"
   ]
  },
  {
   "cell_type": "code",
   "execution_count": 16,
   "metadata": {},
   "outputs": [
    {
     "name": "stdout",
     "output_type": "stream",
     "text": [
      "Saved PyTorch Model State to model.pth\n"
     ]
    }
   ],
   "source": [
    "# torch.save(model.state_dict(), \"model.pth\")\n",
    "torch.save(cnn.state_dict(), \"model2.pth\")\n",
    "print(\"Saved PyTorch Model State to model.pth\")"
   ]
  },
  {
   "cell_type": "markdown",
   "metadata": {},
   "source": [
    "Loading Models"
   ]
  },
  {
   "cell_type": "code",
   "execution_count": 17,
   "metadata": {},
   "outputs": [
    {
     "data": {
      "text/plain": [
       "<All keys matched successfully>"
      ]
     },
     "execution_count": 17,
     "metadata": {},
     "output_type": "execute_result"
    }
   ],
   "source": [
    "cnn2 = ConvolutionalNeuralNetwork().to(device)\n",
    "cnn2.load_state_dict(torch.load(\"model2.pth\", weights_only=True))"
   ]
  },
  {
   "cell_type": "code",
   "execution_count": 18,
   "metadata": {},
   "outputs": [],
   "source": [
    "# classes = [\n",
    "#     \"T-shirt/top\",\n",
    "#     \"Trouser\",\n",
    "#     \"Pullover\",\n",
    "#     \"Dress\",\n",
    "#     \"Coat\",\n",
    "#     \"Sandal\",\n",
    "#     \"Shirt\",\n",
    "#     \"Sneaker\",\n",
    "#     \"Bag\",\n",
    "#     \"Ankle boot\",\n",
    "# ]\n",
    "\n",
    "# model.eval()\n",
    "# x, y = test_data[0][0], test_data[0][1]\n",
    "# with torch.no_grad():\n",
    "#     x = x.to(device)\n",
    "#     pred = model(x)\n",
    "#     predicted, actual = classes[pred[0].argmax(0)], classes[y]\n",
    "#     print(f'Predicted: \"{predicted}\", Actual: \"{actual}\"')"
   ]
  },
  {
   "cell_type": "markdown",
   "metadata": {},
   "source": [
    "TensorBoard"
   ]
  },
  {
   "cell_type": "code",
   "execution_count": 19,
   "metadata": {},
   "outputs": [
    {
     "name": "stdout",
     "output_type": "stream",
     "text": [
      "Moyenne des accuracies test sur 5 époques : 0.9863\n",
      "Médiane des accuracies test : 0.9877\n",
      "Done!\n"
     ]
    }
   ],
   "source": [
    "import statistics\n",
    "mean_acc = statistics.mean(accuracies)\n",
    "median_acc = statistics.median(accuracies)\n",
    "\n",
    "print(f\"Moyenne des accuracies test sur {epochs} époques : {mean_acc:.4f}\")\n",
    "print(f\"Médiane des accuracies test : {median_acc:.4f}\")\n",
    "\n",
    "writer.add_scalar(\"Stats/mean_accuracy\", mean_acc, epochs)\n",
    "writer.add_scalar(\"Stats/median_accuracy\", median_acc, epochs)\n",
    "writer.close()\n",
    "print(\"Done!\")"
   ]
  },
  {
   "cell_type": "code",
   "execution_count": 23,
   "metadata": {},
   "outputs": [
    {
     "name": "stdout",
     "output_type": "stream",
     "text": [
      "ConvolutionalNeuralNetwork(\n",
      "  (conv1): Conv2d(1, 32, kernel_size=(3, 3), stride=(1, 1))\n",
      "  (pool): MaxPool2d(kernel_size=2, stride=2, padding=0, dilation=1, ceil_mode=False)\n",
      "  (conv2): Conv2d(32, 64, kernel_size=(3, 3), stride=(1, 1))\n",
      "  (fc1): Linear(in_features=1600, out_features=128, bias=True)\n",
      "  (fc2): Linear(in_features=128, out_features=128, bias=True)\n",
      "  (fc3): Linear(in_features=128, out_features=10, bias=True)\n",
      ")\n",
      "ConvolutionalNeuralNetwork(\n",
      "  (conv1): Conv2d(1, 32, kernel_size=(3, 3), stride=(1, 1))\n",
      "  (pool): MaxPool2d(kernel_size=2, stride=2, padding=0, dilation=1, ceil_mode=False)\n",
      "  (conv2): Conv2d(32, 64, kernel_size=(3, 3), stride=(1, 1))\n",
      "  (fc1): Linear(in_features=1600, out_features=128, bias=True)\n",
      "  (fc2): Linear(in_features=128, out_features=128, bias=True)\n",
      "  (fc3): Linear(in_features=128, out_features=10, bias=True)\n",
      ")\n",
      "Modèle exporté en mnist_cnn.onnx\n"
     ]
    }
   ],
   "source": [
    "print(cnn)\n",
    "cnn.eval()\n",
    "print(cnn)\n",
    "dummy_input = torch.randn(1, 1, 28, 28, device=device)\n",
    "torch.onnx.export(\n",
    "    cnn, \n",
    "    dummy_input, \n",
    "    \"backend/mnist_cnn2.onnx\",\n",
    "    input_names=[\"input\"], \n",
    "    output_names=[\"output\"], \n",
    "    dynamic_axes={\"input\": {0: \"batch_size\"}, \"output\": {0: \"batch_size\"}},\n",
    "    opset_version=11\n",
    ")\n",
    "print(\"Modèle exporté en mnist_cnn.onnx\")"
   ]
  },
  {
   "cell_type": "code",
   "execution_count": 21,
   "metadata": {},
   "outputs": [
    {
     "name": "stdout",
     "output_type": "stream",
     "text": [
      "Prediction: 8\n"
     ]
    }
   ],
   "source": [
    "from PIL import Image\n",
    "import numpy as np\n",
    "import onnxruntime as ort\n",
    "\n",
    "img = Image.open(\"debug_digit.png\").convert(\"L\")\n",
    "img = np.array(img).astype(np.float32) / 255.0\n",
    "img = (img - 0.1307) / 0.3081\n",
    "input_tensor = img.reshape(1, 1, 28, 28)\n",
    "\n",
    "session = ort.InferenceSession(\"mnist_cnn.onnx\")\n",
    "outputs = session.run(None, {\"input\": input_tensor})\n",
    "print(\"Prediction:\", np.argmax(outputs[0]))\n"
   ]
  }
 ],
 "metadata": {
  "kernelspec": {
   "display_name": ".env",
   "language": "python",
   "name": "python3"
  },
  "language_info": {
   "codemirror_mode": {
    "name": "ipython",
    "version": 3
   },
   "file_extension": ".py",
   "mimetype": "text/x-python",
   "name": "python",
   "nbconvert_exporter": "python",
   "pygments_lexer": "ipython3",
   "version": "3.11.13"
  }
 },
 "nbformat": 4,
 "nbformat_minor": 2
}
